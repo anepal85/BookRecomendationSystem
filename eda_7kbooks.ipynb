{
 "cells": [
  {
   "cell_type": "code",
   "execution_count": null,
   "metadata": {
    "_cell_guid": "b1076dfc-b9ad-4769-8c92-a6c4dae69d19",
    "_uuid": "8f2839f25d086af736a60e9eeb907d3b93b6e0e5",
    "execution": {
     "iopub.execute_input": "2025-02-21T23:30:15.411474Z",
     "iopub.status.busy": "2025-02-21T23:30:15.411047Z",
     "iopub.status.idle": "2025-02-21T23:30:15.698659Z",
     "shell.execute_reply": "2025-02-21T23:30:15.697788Z",
     "shell.execute_reply.started": "2025-02-21T23:30:15.411445Z"
    },
    "trusted": true
   },
   "outputs": [],
   "source": [
    "import numpy as np \n",
    "import pandas as pd \n",
    "import kagglehub\n",
    "import os \n",
    "import seaborn as sns\n",
    "import matplotlib.pyplot as plt"
   ]
  },
  {
   "cell_type": "code",
   "execution_count": null,
   "metadata": {
    "execution": {
     "iopub.execute_input": "2025-02-21T23:26:17.830767Z",
     "iopub.status.busy": "2025-02-21T23:26:17.830354Z",
     "iopub.status.idle": "2025-02-21T23:26:23.263103Z",
     "shell.execute_reply": "2025-02-21T23:26:23.261911Z",
     "shell.execute_reply.started": "2025-02-21T23:26:17.830733Z"
    },
    "trusted": true
   },
   "outputs": [],
   "source": [
    "#!pip install langchain transformers"
   ]
  },
  {
   "cell_type": "code",
   "execution_count": null,
   "metadata": {
    "execution": {
     "iopub.execute_input": "2025-02-21T23:21:55.909343Z",
     "iopub.status.busy": "2025-02-21T23:21:55.908807Z",
     "iopub.status.idle": "2025-02-21T23:21:56.788164Z",
     "shell.execute_reply": "2025-02-21T23:21:56.787147Z",
     "shell.execute_reply.started": "2025-02-21T23:21:55.909314Z"
    },
    "trusted": true
   },
   "outputs": [],
   "source": [
    "# Download latest version\n",
    "path = kagglehub.dataset_download(\"dylanjcastillo/7k-books-with-metadata\")\n",
    "\n",
    "print(\"Path to dataset files:\", path)"
   ]
  },
  {
   "cell_type": "code",
   "execution_count": null,
   "metadata": {
    "execution": {
     "iopub.execute_input": "2025-02-21T23:38:11.873521Z",
     "iopub.status.busy": "2025-02-21T23:38:11.873116Z",
     "iopub.status.idle": "2025-02-21T23:38:11.987907Z",
     "shell.execute_reply": "2025-02-21T23:38:11.986909Z",
     "shell.execute_reply.started": "2025-02-21T23:38:11.873487Z"
    },
    "trusted": true
   },
   "outputs": [],
   "source": [
    "books_df = pd.read_csv(os.path.join(path, 'books.csv'))\n",
    "\n",
    "# Display the first few rows\n",
    "books_df.head(40)"
   ]
  },
  {
   "cell_type": "code",
   "execution_count": null,
   "metadata": {
    "execution": {
     "iopub.execute_input": "2025-02-21T23:31:28.586790Z",
     "iopub.status.busy": "2025-02-21T23:31:28.586422Z",
     "iopub.status.idle": "2025-02-21T23:31:28.612932Z",
     "shell.execute_reply": "2025-02-21T23:31:28.612067Z",
     "shell.execute_reply.started": "2025-02-21T23:31:28.586762Z"
    },
    "trusted": true
   },
   "outputs": [],
   "source": [
    "books_df.describe()"
   ]
  },
  {
   "cell_type": "code",
   "execution_count": null,
   "metadata": {
    "execution": {
     "iopub.execute_input": "2025-02-21T23:30:56.075002Z",
     "iopub.status.busy": "2025-02-21T23:30:56.074648Z",
     "iopub.status.idle": "2025-02-21T23:30:56.686426Z",
     "shell.execute_reply": "2025-02-21T23:30:56.685336Z",
     "shell.execute_reply.started": "2025-02-21T23:30:56.074973Z"
    },
    "trusted": true
   },
   "outputs": [],
   "source": [
    "ax = plt.axes()\n",
    "sns.heatmap(books_df.isna().transpose(), cbar=False, ax=ax)\n",
    "\n",
    "plt.xlabel(\"Columns\")\n",
    "plt.ylabel(\"Missing values\")\n",
    "\n",
    "plt.show()"
   ]
  },
  {
   "cell_type": "code",
   "execution_count": null,
   "metadata": {
    "execution": {
     "iopub.execute_input": "2025-02-21T23:38:48.122712Z",
     "iopub.status.busy": "2025-02-21T23:38:48.122311Z",
     "iopub.status.idle": "2025-02-21T23:38:48.140650Z",
     "shell.execute_reply": "2025-02-21T23:38:48.139511Z",
     "shell.execute_reply.started": "2025-02-21T23:38:48.122681Z"
    },
    "trusted": true
   },
   "outputs": [],
   "source": [
    "books_df[\"missing_description\"] = np.where(books_df[\"description\"].isna(), 1, 0)\n",
    "books_df.head()"
   ]
  },
  {
   "cell_type": "code",
   "execution_count": null,
   "metadata": {
    "execution": {
     "iopub.execute_input": "2025-02-21T23:48:28.801897Z",
     "iopub.status.busy": "2025-02-21T23:48:28.801443Z",
     "iopub.status.idle": "2025-02-21T23:48:28.821483Z",
     "shell.execute_reply": "2025-02-21T23:48:28.820459Z",
     "shell.execute_reply.started": "2025-02-21T23:48:28.801863Z"
    },
    "trusted": true
   },
   "outputs": [],
   "source": [
    "books_df[\"age_of_book\"] = 2024 - books_df[\"published_year\"]\n",
    "books_df.head()"
   ]
  },
  {
   "cell_type": "code",
   "execution_count": null,
   "metadata": {
    "execution": {
     "iopub.execute_input": "2025-02-21T23:49:37.371727Z",
     "iopub.status.busy": "2025-02-21T23:49:37.371303Z",
     "iopub.status.idle": "2025-02-21T23:49:37.715500Z",
     "shell.execute_reply": "2025-02-21T23:49:37.714484Z",
     "shell.execute_reply.started": "2025-02-21T23:49:37.371689Z"
    },
    "trusted": true
   },
   "outputs": [],
   "source": [
    "columns_of_interest = [\"num_pages\", \"age_of_book\", \"missing_description\", \"average_rating\"]\n",
    "\n",
    "correlation_matrix = books_df[columns_of_interest].corr(method = \"spearman\")\n",
    "\n",
    "sns.set_theme(style=\"white\")\n",
    "plt.figure(figsize=(8, 6))\n",
    "heatmap = sns.heatmap(correlation_matrix, annot=True, fmt=\".2f\", cmap=\"coolwarm\",\n",
    "                      cbar_kws={\"label\": \"Spearman correlation\"})\n",
    "heatmap.set_title(\"Correlation heatmap\")\n",
    "plt.show()"
   ]
  },
  {
   "cell_type": "code",
   "execution_count": null,
   "metadata": {
    "execution": {
     "iopub.execute_input": "2025-02-22T00:08:45.731376Z",
     "iopub.status.busy": "2025-02-22T00:08:45.730960Z",
     "iopub.status.idle": "2025-02-22T00:08:45.759649Z",
     "shell.execute_reply": "2025-02-22T00:08:45.758338Z",
     "shell.execute_reply.started": "2025-02-22T00:08:45.731346Z"
    },
    "trusted": true
   },
   "outputs": [],
   "source": [
    "### so lets discard these missing values \n",
    "## \n",
    "book_missing = books_df[~(books_df[\"description\"].isna()) &\n",
    "      ~(books_df[\"num_pages\"].isna()) &\n",
    "      ~(books_df[\"average_rating\"].isna()) &\n",
    "      ~(books_df[\"published_year\"].isna())]\n",
    "book_missing"
   ]
  },
  {
   "cell_type": "code",
   "execution_count": null,
   "metadata": {
    "execution": {
     "iopub.execute_input": "2025-02-22T00:08:49.070428Z",
     "iopub.status.busy": "2025-02-22T00:08:49.070069Z",
     "iopub.status.idle": "2025-02-22T00:08:49.085007Z",
     "shell.execute_reply": "2025-02-22T00:08:49.083803Z",
     "shell.execute_reply.started": "2025-02-22T00:08:49.070400Z"
    },
    "trusted": true
   },
   "outputs": [],
   "source": [
    "book_missing[\"categories\"].value_counts().reset_index().sort_values(\"count\", ascending=False)"
   ]
  },
  {
   "cell_type": "code",
   "execution_count": null,
   "metadata": {
    "execution": {
     "iopub.execute_input": "2025-02-22T00:08:51.290821Z",
     "iopub.status.busy": "2025-02-22T00:08:51.290453Z",
     "iopub.status.idle": "2025-02-22T00:08:59.351896Z",
     "shell.execute_reply": "2025-02-22T00:08:59.350831Z",
     "shell.execute_reply.started": "2025-02-22T00:08:51.290793Z"
    },
    "trusted": true
   },
   "outputs": [],
   "source": [
    "category_counts = book_missing[\"categories\"].value_counts().reset_index().sort_values(\"count\", ascending=False)\n",
    "\n",
    "# Plot the distribution\n",
    "plt.figure(figsize=(10, 6))\n",
    "sns.barplot(x='categories', y='count', data=category_counts, palette='viridis')\n",
    "plt.xlabel('categories')\n",
    "plt.ylabel('count')\n",
    "plt.title('Distribution of Book Categories')\n",
    "plt.xticks(rotation=45, ha='right')  # Rotate x-axis labels for better readability\n",
    "plt.tight_layout()\n",
    "plt.show()"
   ]
  },
  {
   "cell_type": "code",
   "execution_count": null,
   "metadata": {
    "execution": {
     "iopub.execute_input": "2025-02-22T00:10:08.450499Z",
     "iopub.status.busy": "2025-02-22T00:10:08.450131Z",
     "iopub.status.idle": "2025-02-22T00:10:08.533601Z",
     "shell.execute_reply": "2025-02-22T00:10:08.532469Z",
     "shell.execute_reply.started": "2025-02-22T00:10:08.450470Z"
    },
    "trusted": true
   },
   "outputs": [],
   "source": [
    "book_missing[\"words_in_description\"] = book_missing[\"description\"].str.split().str.len()\n",
    "book_missing"
   ]
  },
  {
   "cell_type": "code",
   "execution_count": null,
   "metadata": {
    "execution": {
     "iopub.execute_input": "2025-02-22T00:16:06.719727Z",
     "iopub.status.busy": "2025-02-22T00:16:06.719233Z",
     "iopub.status.idle": "2025-02-22T00:16:07.103637Z",
     "shell.execute_reply": "2025-02-22T00:16:07.102569Z",
     "shell.execute_reply.started": "2025-02-22T00:16:06.719692Z"
    },
    "trusted": true
   },
   "outputs": [],
   "source": [
    "import seaborn as sns\n",
    "import matplotlib.pyplot as plt\n",
    "\n",
    "# Plot a histogram\n",
    "plt.figure(figsize=(10, 6))\n",
    "sns.histplot(book_missing[\"words_in_description\"], bins=30, kde=False, color='skyblue')\n",
    "plt.xlabel('Number of Words in Description')\n",
    "plt.ylabel('Frequency')\n",
    "plt.title('Distribution of Word Counts in Book Descriptions')\n",
    "plt.grid(axis='y', linestyle='--', alpha=0.7)\n",
    "plt.tight_layout()\n",
    "plt.show()"
   ]
  },
  {
   "cell_type": "code",
   "execution_count": null,
   "metadata": {
    "execution": {
     "iopub.execute_input": "2025-02-22T00:11:35.444790Z",
     "iopub.status.busy": "2025-02-22T00:11:35.444368Z",
     "iopub.status.idle": "2025-02-22T00:11:35.454285Z",
     "shell.execute_reply": "2025-02-22T00:11:35.453339Z",
     "shell.execute_reply.started": "2025-02-22T00:11:35.444758Z"
    },
    "trusted": true
   },
   "outputs": [],
   "source": [
    "book_missing.loc[book_missing[\"words_in_description\"].between(1, 4), \"description\"]"
   ]
  },
  {
   "cell_type": "code",
   "execution_count": null,
   "metadata": {
    "trusted": true
   },
   "outputs": [],
   "source": [
    "book_missing_25_words = book_missing[book_missing[\"words_in_description\"] >= 25]"
   ]
  },
  {
   "cell_type": "code",
   "execution_count": null,
   "metadata": {
    "trusted": true
   },
   "outputs": [],
   "source": [
    "book_missing_25_words[\"title_and_subtitle\"] = (\n",
    "    np.where(book_missing_25_words[\"subtitle\"].isna(), book_missing_25_words[\"title\"],\n",
    "             book_missing_25_words[[\"title\", \"subtitle\"]].astype(str).agg(\": \".join, axis=1))\n",
    ")\n",
    "book_missing_25_words"
   ]
  },
  {
   "cell_type": "code",
   "execution_count": null,
   "metadata": {
    "trusted": true
   },
   "outputs": [],
   "source": [
    "book_missing_25_words[\"tagged_description\"] = book_missing_25_words[[\"isbn13\", \"description\"]].astype(str).agg(\" \".join, axis=1)\n",
    "\n",
    "book_missing_25_words"
   ]
  },
  {
   "cell_type": "code",
   "execution_count": null,
   "metadata": {
    "trusted": true
   },
   "outputs": [],
   "source": [
    "(\n",
    "    book_missing_25_words\n",
    "    .drop([\"subtitle\", \"missing_description\", \"age_of_book\", \"words_in_description\"], axis=1)\n",
    "    .to_csv(\"books_cleaned.csv\", index = False)\n",
    ")"
   ]
  }
 ],
 "metadata": {
  "kaggle": {
   "accelerator": "none",
   "dataSources": [
    {
     "databundleVersionId": 955561,
     "datasetId": 499742,
     "sourceId": 928201,
     "sourceType": "datasetVersion"
    }
   ],
   "dockerImageVersionId": 30918,
   "isGpuEnabled": false,
   "isInternetEnabled": true,
   "language": "python",
   "sourceType": "notebook"
  },
  "kernelspec": {
   "display_name": ".venv",
   "language": "python",
   "name": "python3"
  },
  "language_info": {
   "codemirror_mode": {
    "name": "ipython",
    "version": 3
   },
   "file_extension": ".py",
   "mimetype": "text/x-python",
   "name": "python",
   "nbconvert_exporter": "python",
   "pygments_lexer": "ipython3",
   "version": "3.10.1"
  }
 },
 "nbformat": 4,
 "nbformat_minor": 4
}
